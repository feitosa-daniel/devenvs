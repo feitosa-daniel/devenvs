{
 "cells": [
  {
   "cell_type": "markdown",
   "id": "d054ea9b-e891-4c18-b5b3-ed23f73ddbdc",
   "metadata": {},
   "source": [
    "# Bokeh example"
   ]
  },
  {
   "cell_type": "code",
   "execution_count": null,
   "id": "ef641833-c81d-456d-b8c3-80f894f16885",
   "metadata": {},
   "outputs": [],
   "source": [
    "import os\n",
    "\n",
    "from selenium import webdriver\n",
    "from selenium.webdriver.firefox.service import Service as FirefoxService\n",
    "from webdriver_manager.firefox import GeckoDriverManager\n",
    "\n",
    "from bokeh.io import output_file, export_svgs, export_png\n",
    "import svglib.svglib as svglib\n",
    "from reportlab.graphics import renderPDF\n",
    "\n",
    "\n",
    "class FirefoxWebdriver(object):\n",
    "    def __new__(cls):\n",
    "        if not hasattr(cls, 'instance'):\n",
    "            cls.instance = super(FirefoxWebdriver, cls).__new__(cls)\n",
    "\n",
    "            opts = webdriver.FirefoxOptions()\n",
    "            opts.add_argument(\"--headless\")\n",
    "            cls.driver = webdriver.Firefox(service=FirefoxService(GeckoDriverManager().install()), options=opts)\n",
    "            \n",
    "        return cls.instance\n",
    "\n",
    "def export_pdf(bokeh_plot, filename):\n",
    "    bokeh_plot.output_backend = \"svg\"\n",
    "    filename = re.sub(r'\\.pdf$','',filename)\n",
    "    svg_name = filename+'.svg'\n",
    "    pdf_name = filename+'.pdf'\n",
    "    \n",
    "    export_svgs(bokeh_plot, filename=svg_name, webdriver=FirefoxWebdriver().driver)\n",
    "    svg = svglib.svg2rlg(svg_name)\n",
    "    renderPDF.drawToFile(svg, pdf_name)\n",
    "    os.remove(svg_name)"
   ]
  },
  {
   "cell_type": "code",
   "execution_count": null,
   "id": "f65a8ca7-6d8e-4d88-8083-ebececf4be07",
   "metadata": {},
   "outputs": [],
   "source": [
    "import math\n",
    "from bokeh.io import output_notebook\n",
    "from bokeh.models import ColumnDataSource, FactorRange\n",
    "from bokeh.plotting import figure, show\n",
    "from bokeh.transform import factor_cmap\n",
    "output_notebook()\n",
    "\n",
    "# Code from https://docs.bokeh.org/en/latest/docs/gallery/bar_nested_colormapped.html\n",
    "fruits = ['Apples', 'Pears', 'Nectarines', 'Plums', 'Grapes', 'Strawberries']\n",
    "years = ['2015', '2016', '2017']\n",
    "\n",
    "data = {'fruits' : fruits,\n",
    "        '2015'   : [2, 1, 4, 3, 2, 4],\n",
    "        '2016'   : [5, 3, 3, 2, 4, 6],\n",
    "        '2017'   : [3, 2, 4, 4, 5, 3]}\n",
    "\n",
    "palette = [\"#c9d9d3\", \"#718dbf\", \"#e84d60\"]\n",
    "\n",
    "# this creates [ (\"Apples\", \"2015\"), (\"Apples\", \"2016\"), (\"Apples\", \"2017\"), (\"Pears\", \"2015), ... ]\n",
    "x = [ (fruit, year) for fruit in fruits for year in years ]\n",
    "counts = sum(zip(data['2015'], data['2016'], data['2017']), ()) # like an hstack\n",
    "\n",
    "source = ColumnDataSource(data=dict(x=x, counts=counts))\n",
    "\n",
    "p = figure(x_range=FactorRange(*x), height=350, title=\"Fruit Counts by Year\",\n",
    "           toolbar_location=None, tools=\"\")\n",
    "\n",
    "p.vbar(x='x', top='counts', width=0.9, source=source, line_color=\"white\",\n",
    "       fill_color=factor_cmap('x', palette=palette, factors=years, start=1, end=2))\n",
    "\n",
    "p.y_range.start = 0\n",
    "p.x_range.range_padding = 0.1\n",
    "p.xaxis.major_label_orientation = 1\n",
    "p.xgrid.grid_line_color = None\n",
    "\n",
    "show(p)\n",
    "export_pdf(p, 'plot')"
   ]
  }
 ],
 "metadata": {
  "kernelspec": {
   "display_name": "Python 3.10.6 64-bit",
   "language": "python",
   "name": "python3"
  },
  "language_info": {
   "codemirror_mode": {
    "name": "ipython",
    "version": 3
   },
   "file_extension": ".py",
   "mimetype": "text/x-python",
   "name": "python",
   "nbconvert_exporter": "python",
   "pygments_lexer": "ipython3",
   "version": "3.10.6"
  },
  "vscode": {
   "interpreter": {
    "hash": "b0fa6594d8f4cbf19f97940f81e996739fb7646882a419484c72d19e05852a7e"
   }
  }
 },
 "nbformat": 4,
 "nbformat_minor": 5
}
