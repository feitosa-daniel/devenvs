{
 "cells": [
  {
   "cell_type": "code",
   "execution_count": 1,
   "id": "a1d62d3c-b456-420c-816c-ed71d97f072c",
   "metadata": {},
   "outputs": [],
   "source": [
    "abstract class Animal {\n",
    "    abstract public void makeSound();\n",
    "}"
   ]
  },
  {
   "cell_type": "code",
   "execution_count": 2,
   "id": "02fe389c-73b2-4a85-87c6-dfb5edf24a1a",
   "metadata": {},
   "outputs": [],
   "source": [
    "class Dog extends Animal {\n",
    "    public void makeSound() {\n",
    "        System.out.println(\"bark!\");\n",
    "    }\n",
    "}"
   ]
  },
  {
   "cell_type": "code",
   "execution_count": 3,
   "id": "5fc92604-0cdd-4d3a-80c9-55b53b19fa38",
   "metadata": {},
   "outputs": [],
   "source": [
    "class Cat extends Animal {\n",
    "    public void makeSound() {\n",
    "        System.out.println(\"meow!\");\n",
    "    }\n",
    "}"
   ]
  },
  {
   "cell_type": "code",
   "execution_count": 4,
   "id": "0896affd-43e0-46a0-b569-8ba1c9803060",
   "metadata": {},
   "outputs": [],
   "source": [
    "class Duck extends Animal {\n",
    "    public void makeSound() {\n",
    "        System.out.println(\"quack!\");\n",
    "    }\n",
    "}"
   ]
  },
  {
   "cell_type": "code",
   "execution_count": 5,
   "id": "4d7a4a9f-8caf-4670-8b00-1c5e2ba3b64b",
   "metadata": {},
   "outputs": [],
   "source": [
    "Animal dog = new Dog();\n",
    "Animal cat = new Cat();\n",
    "Animal duck = new Duck();"
   ]
  },
  {
   "cell_type": "code",
   "execution_count": 6,
   "id": "5ea0bb16-e98f-4314-a1fd-7436cb164a60",
   "metadata": {},
   "outputs": [
    {
     "name": "stdout",
     "output_type": "stream",
     "text": [
      "bark!\n"
     ]
    }
   ],
   "source": [
    "dog.makeSound();"
   ]
  },
  {
   "cell_type": "code",
   "execution_count": 7,
   "id": "6531a93f-e47d-4091-9ec6-d04ef6473b27",
   "metadata": {},
   "outputs": [
    {
     "name": "stdout",
     "output_type": "stream",
     "text": [
      "meow!\n"
     ]
    }
   ],
   "source": [
    "cat.makeSound();"
   ]
  },
  {
   "cell_type": "code",
   "execution_count": 8,
   "id": "5dadb5dc-124f-48e3-a039-74bf6bc41e21",
   "metadata": {},
   "outputs": [
    {
     "name": "stdout",
     "output_type": "stream",
     "text": [
      "quack!\n"
     ]
    }
   ],
   "source": [
    "duck.makeSound();"
   ]
  },
  {
   "cell_type": "code",
   "execution_count": null,
   "id": "2bdf4ba6-14ba-490a-a727-fd79dc31204d",
   "metadata": {},
   "outputs": [],
   "source": [
    "s"
   ]
  }
 ],
 "metadata": {
  "kernelspec": {
   "display_name": "Java",
   "language": "java",
   "name": "java"
  },
  "language_info": {
   "codemirror_mode": "java",
   "file_extension": ".jshell",
   "mimetype": "text/x-java-source",
   "name": "Java",
   "pygments_lexer": "java",
   "version": "11.0.9.1-internal+0-adhoc..src"
  }
 },
 "nbformat": 4,
 "nbformat_minor": 5
}
